{
  "nbformat": 4,
  "nbformat_minor": 0,
  "metadata": {
    "colab": {
      "provenance": [],
      "authorship_tag": "ABX9TyNZ6r8fxscB+EQNzNnY+4SX",
      "include_colab_link": true
    },
    "kernelspec": {
      "name": "python3",
      "display_name": "Python 3"
    },
    "language_info": {
      "name": "python"
    },
    "widgets": {
      "application/vnd.jupyter.widget-state+json": {
        "7cc9be3795ae4ff0a94ddc91bf11580e": {
          "model_module": "@jupyter-widgets/controls",
          "model_name": "HBoxModel",
          "model_module_version": "1.5.0",
          "state": {
            "_dom_classes": [],
            "_model_module": "@jupyter-widgets/controls",
            "_model_module_version": "1.5.0",
            "_model_name": "HBoxModel",
            "_view_count": null,
            "_view_module": "@jupyter-widgets/controls",
            "_view_module_version": "1.5.0",
            "_view_name": "HBoxView",
            "box_style": "",
            "children": [
              "IPY_MODEL_a7b017ca9d154c808c91166a6b09b91a",
              "IPY_MODEL_b20519dbd251472da0e3b0a3b0299848",
              "IPY_MODEL_56446c78ab4947d6ace1a68da57749c9"
            ],
            "layout": "IPY_MODEL_0066e6ad954442dfaa1981c64c240f8e"
          }
        },
        "a7b017ca9d154c808c91166a6b09b91a": {
          "model_module": "@jupyter-widgets/controls",
          "model_name": "HTMLModel",
          "model_module_version": "1.5.0",
          "state": {
            "_dom_classes": [],
            "_model_module": "@jupyter-widgets/controls",
            "_model_module_version": "1.5.0",
            "_model_name": "HTMLModel",
            "_view_count": null,
            "_view_module": "@jupyter-widgets/controls",
            "_view_module_version": "1.5.0",
            "_view_name": "HTMLView",
            "description": "",
            "description_tooltip": null,
            "layout": "IPY_MODEL_5045ee4dc644488c8927d6451d75cdcb",
            "placeholder": "​",
            "style": "IPY_MODEL_689eed6b87934f0b9c3e9d0d36fe0c23",
            "value": "100%"
          }
        },
        "b20519dbd251472da0e3b0a3b0299848": {
          "model_module": "@jupyter-widgets/controls",
          "model_name": "FloatProgressModel",
          "model_module_version": "1.5.0",
          "state": {
            "_dom_classes": [],
            "_model_module": "@jupyter-widgets/controls",
            "_model_module_version": "1.5.0",
            "_model_name": "FloatProgressModel",
            "_view_count": null,
            "_view_module": "@jupyter-widgets/controls",
            "_view_module_version": "1.5.0",
            "_view_name": "ProgressView",
            "bar_style": "success",
            "description": "",
            "description_tooltip": null,
            "layout": "IPY_MODEL_08cef549de04481d83a31929b62b4f3c",
            "max": 1000,
            "min": 0,
            "orientation": "horizontal",
            "style": "IPY_MODEL_ddbdcf904253489d9d8c670a543500d8",
            "value": 1000
          }
        },
        "56446c78ab4947d6ace1a68da57749c9": {
          "model_module": "@jupyter-widgets/controls",
          "model_name": "HTMLModel",
          "model_module_version": "1.5.0",
          "state": {
            "_dom_classes": [],
            "_model_module": "@jupyter-widgets/controls",
            "_model_module_version": "1.5.0",
            "_model_name": "HTMLModel",
            "_view_count": null,
            "_view_module": "@jupyter-widgets/controls",
            "_view_module_version": "1.5.0",
            "_view_name": "HTMLView",
            "description": "",
            "description_tooltip": null,
            "layout": "IPY_MODEL_ac50b9d3850547fa9bee043f90eaa8ca",
            "placeholder": "​",
            "style": "IPY_MODEL_362d2f43bcbf479c8e71c815dc1d0676",
            "value": " 1000/1000 [00:00&lt;00:00, 1260.04it/s]"
          }
        },
        "0066e6ad954442dfaa1981c64c240f8e": {
          "model_module": "@jupyter-widgets/base",
          "model_name": "LayoutModel",
          "model_module_version": "1.2.0",
          "state": {
            "_model_module": "@jupyter-widgets/base",
            "_model_module_version": "1.2.0",
            "_model_name": "LayoutModel",
            "_view_count": null,
            "_view_module": "@jupyter-widgets/base",
            "_view_module_version": "1.2.0",
            "_view_name": "LayoutView",
            "align_content": null,
            "align_items": null,
            "align_self": null,
            "border": null,
            "bottom": null,
            "display": null,
            "flex": null,
            "flex_flow": null,
            "grid_area": null,
            "grid_auto_columns": null,
            "grid_auto_flow": null,
            "grid_auto_rows": null,
            "grid_column": null,
            "grid_gap": null,
            "grid_row": null,
            "grid_template_areas": null,
            "grid_template_columns": null,
            "grid_template_rows": null,
            "height": null,
            "justify_content": null,
            "justify_items": null,
            "left": null,
            "margin": null,
            "max_height": null,
            "max_width": null,
            "min_height": null,
            "min_width": null,
            "object_fit": null,
            "object_position": null,
            "order": null,
            "overflow": null,
            "overflow_x": null,
            "overflow_y": null,
            "padding": null,
            "right": null,
            "top": null,
            "visibility": null,
            "width": null
          }
        },
        "5045ee4dc644488c8927d6451d75cdcb": {
          "model_module": "@jupyter-widgets/base",
          "model_name": "LayoutModel",
          "model_module_version": "1.2.0",
          "state": {
            "_model_module": "@jupyter-widgets/base",
            "_model_module_version": "1.2.0",
            "_model_name": "LayoutModel",
            "_view_count": null,
            "_view_module": "@jupyter-widgets/base",
            "_view_module_version": "1.2.0",
            "_view_name": "LayoutView",
            "align_content": null,
            "align_items": null,
            "align_self": null,
            "border": null,
            "bottom": null,
            "display": null,
            "flex": null,
            "flex_flow": null,
            "grid_area": null,
            "grid_auto_columns": null,
            "grid_auto_flow": null,
            "grid_auto_rows": null,
            "grid_column": null,
            "grid_gap": null,
            "grid_row": null,
            "grid_template_areas": null,
            "grid_template_columns": null,
            "grid_template_rows": null,
            "height": null,
            "justify_content": null,
            "justify_items": null,
            "left": null,
            "margin": null,
            "max_height": null,
            "max_width": null,
            "min_height": null,
            "min_width": null,
            "object_fit": null,
            "object_position": null,
            "order": null,
            "overflow": null,
            "overflow_x": null,
            "overflow_y": null,
            "padding": null,
            "right": null,
            "top": null,
            "visibility": null,
            "width": null
          }
        },
        "689eed6b87934f0b9c3e9d0d36fe0c23": {
          "model_module": "@jupyter-widgets/controls",
          "model_name": "DescriptionStyleModel",
          "model_module_version": "1.5.0",
          "state": {
            "_model_module": "@jupyter-widgets/controls",
            "_model_module_version": "1.5.0",
            "_model_name": "DescriptionStyleModel",
            "_view_count": null,
            "_view_module": "@jupyter-widgets/base",
            "_view_module_version": "1.2.0",
            "_view_name": "StyleView",
            "description_width": ""
          }
        },
        "08cef549de04481d83a31929b62b4f3c": {
          "model_module": "@jupyter-widgets/base",
          "model_name": "LayoutModel",
          "model_module_version": "1.2.0",
          "state": {
            "_model_module": "@jupyter-widgets/base",
            "_model_module_version": "1.2.0",
            "_model_name": "LayoutModel",
            "_view_count": null,
            "_view_module": "@jupyter-widgets/base",
            "_view_module_version": "1.2.0",
            "_view_name": "LayoutView",
            "align_content": null,
            "align_items": null,
            "align_self": null,
            "border": null,
            "bottom": null,
            "display": null,
            "flex": null,
            "flex_flow": null,
            "grid_area": null,
            "grid_auto_columns": null,
            "grid_auto_flow": null,
            "grid_auto_rows": null,
            "grid_column": null,
            "grid_gap": null,
            "grid_row": null,
            "grid_template_areas": null,
            "grid_template_columns": null,
            "grid_template_rows": null,
            "height": null,
            "justify_content": null,
            "justify_items": null,
            "left": null,
            "margin": null,
            "max_height": null,
            "max_width": null,
            "min_height": null,
            "min_width": null,
            "object_fit": null,
            "object_position": null,
            "order": null,
            "overflow": null,
            "overflow_x": null,
            "overflow_y": null,
            "padding": null,
            "right": null,
            "top": null,
            "visibility": null,
            "width": null
          }
        },
        "ddbdcf904253489d9d8c670a543500d8": {
          "model_module": "@jupyter-widgets/controls",
          "model_name": "ProgressStyleModel",
          "model_module_version": "1.5.0",
          "state": {
            "_model_module": "@jupyter-widgets/controls",
            "_model_module_version": "1.5.0",
            "_model_name": "ProgressStyleModel",
            "_view_count": null,
            "_view_module": "@jupyter-widgets/base",
            "_view_module_version": "1.2.0",
            "_view_name": "StyleView",
            "bar_color": null,
            "description_width": ""
          }
        },
        "ac50b9d3850547fa9bee043f90eaa8ca": {
          "model_module": "@jupyter-widgets/base",
          "model_name": "LayoutModel",
          "model_module_version": "1.2.0",
          "state": {
            "_model_module": "@jupyter-widgets/base",
            "_model_module_version": "1.2.0",
            "_model_name": "LayoutModel",
            "_view_count": null,
            "_view_module": "@jupyter-widgets/base",
            "_view_module_version": "1.2.0",
            "_view_name": "LayoutView",
            "align_content": null,
            "align_items": null,
            "align_self": null,
            "border": null,
            "bottom": null,
            "display": null,
            "flex": null,
            "flex_flow": null,
            "grid_area": null,
            "grid_auto_columns": null,
            "grid_auto_flow": null,
            "grid_auto_rows": null,
            "grid_column": null,
            "grid_gap": null,
            "grid_row": null,
            "grid_template_areas": null,
            "grid_template_columns": null,
            "grid_template_rows": null,
            "height": null,
            "justify_content": null,
            "justify_items": null,
            "left": null,
            "margin": null,
            "max_height": null,
            "max_width": null,
            "min_height": null,
            "min_width": null,
            "object_fit": null,
            "object_position": null,
            "order": null,
            "overflow": null,
            "overflow_x": null,
            "overflow_y": null,
            "padding": null,
            "right": null,
            "top": null,
            "visibility": null,
            "width": null
          }
        },
        "362d2f43bcbf479c8e71c815dc1d0676": {
          "model_module": "@jupyter-widgets/controls",
          "model_name": "DescriptionStyleModel",
          "model_module_version": "1.5.0",
          "state": {
            "_model_module": "@jupyter-widgets/controls",
            "_model_module_version": "1.5.0",
            "_model_name": "DescriptionStyleModel",
            "_view_count": null,
            "_view_module": "@jupyter-widgets/base",
            "_view_module_version": "1.2.0",
            "_view_name": "StyleView",
            "description_width": ""
          }
        }
      }
    }
  },
  "cells": [
    {
      "cell_type": "markdown",
      "metadata": {
        "id": "view-in-github",
        "colab_type": "text"
      },
      "source": [
        "<a href=\"https://colab.research.google.com/github/vaibhavi128/Pytorch-deep-learning/blob/main/Experiment_2.ipynb\" target=\"_parent\"><img src=\"https://colab.research.google.com/assets/colab-badge.svg\" alt=\"Open In Colab\"/></a>"
      ]
    },
    {
      "cell_type": "markdown",
      "source": [
        "***Write a program to generate following logic functions using McCulloch-Pitts neuron and appropriate values for weights, bias and threshold***"
      ],
      "metadata": {
        "id": "2W6_oqKo5AAB"
      }
    },
    {
      "cell_type": "code",
      "execution_count": 1,
      "metadata": {
        "id": "cUkjCcx84zHA"
      },
      "outputs": [],
      "source": [
        "import torch.nn as nn\n",
        "import torch.nn.functional as F\n",
        "import torch\n",
        "import numpy as np"
      ]
    },
    {
      "cell_type": "code",
      "source": [
        "class XORClassifier(nn.Module):\n",
        "\n",
        "    def __init__(self, num_inputs, num_hidden, num_outputs):\n",
        "        super().__init__()\n",
        "        # Initialize the modules we need to build the network\n",
        "        self.linear1 = nn.Linear(num_inputs, num_hidden)\n",
        "        self.act_fn = nn.Tanh()\n",
        "        self.linear2 = nn.Linear(num_hidden, num_outputs)\n",
        "\n",
        "    def forward(self, x):\n",
        "        # Perform the calculation of the model to determine the prediction\n",
        "        x = self.linear1(x)\n",
        "        x = self.act_fn(x)\n",
        "        x = self.linear2(x)\n",
        "        return x"
      ],
      "metadata": {
        "id": "MaK47jfL5kLd"
      },
      "execution_count": 2,
      "outputs": []
    },
    {
      "cell_type": "code",
      "source": [
        "model = XORClassifier(num_inputs=2, num_hidden=4, num_outputs=1)\n",
        "# Printing a module shows all its submodules\n",
        "print(model)"
      ],
      "metadata": {
        "colab": {
          "base_uri": "https://localhost:8080/"
        },
        "id": "5Nv346ba5oZu",
        "outputId": "2b635e9d-bd2d-4bf3-92a8-cf66b5147840"
      },
      "execution_count": 3,
      "outputs": [
        {
          "output_type": "stream",
          "name": "stdout",
          "text": [
            "XORClassifier(\n",
            "  (linear1): Linear(in_features=2, out_features=4, bias=True)\n",
            "  (act_fn): Tanh()\n",
            "  (linear2): Linear(in_features=4, out_features=1, bias=True)\n",
            ")\n"
          ]
        }
      ]
    },
    {
      "cell_type": "code",
      "source": [
        "for name, param in model.named_parameters():\n",
        "    print(f\"Parameter {name}, shape {param.shape}\")"
      ],
      "metadata": {
        "colab": {
          "base_uri": "https://localhost:8080/"
        },
        "id": "A-sdTEDi5rZe",
        "outputId": "43539f18-f3e1-4809-a6e8-026ca37a4dc4"
      },
      "execution_count": 4,
      "outputs": [
        {
          "output_type": "stream",
          "name": "stdout",
          "text": [
            "Parameter linear1.weight, shape torch.Size([4, 2])\n",
            "Parameter linear1.bias, shape torch.Size([4])\n",
            "Parameter linear2.weight, shape torch.Size([1, 4])\n",
            "Parameter linear2.bias, shape torch.Size([1])\n"
          ]
        }
      ]
    },
    {
      "cell_type": "code",
      "source": [
        "size = 50 # samples\n",
        "std=0.1\n",
        "data = torch.randint(low=0, high=2, size=(size, 2), dtype=torch.float32)\n",
        "data += std * torch.randn(data.shape)\n",
        "data"
      ],
      "metadata": {
        "colab": {
          "base_uri": "https://localhost:8080/"
        },
        "id": "j2mbiWmz5u3X",
        "outputId": "70f23741-9446-4995-f975-5cbe52d7cc56"
      },
      "execution_count": 5,
      "outputs": [
        {
          "output_type": "execute_result",
          "data": {
            "text/plain": [
              "tensor([[ 0.1187,  0.0050],\n",
              "        [-0.0600,  1.0764],\n",
              "        [ 1.0721,  1.0133],\n",
              "        [ 0.9477, -0.0632],\n",
              "        [ 0.0482,  0.0271],\n",
              "        [ 0.8225, -0.0557],\n",
              "        [ 1.0348,  1.0979],\n",
              "        [ 0.9512,  0.1423],\n",
              "        [ 0.0064, -0.1808],\n",
              "        [ 1.0472,  1.1423],\n",
              "        [ 1.0792,  1.0493],\n",
              "        [-0.0238, -0.0293],\n",
              "        [ 0.9503,  0.9042],\n",
              "        [ 0.9378, -0.0464],\n",
              "        [ 1.1795,  1.0233],\n",
              "        [-0.0902,  0.0300],\n",
              "        [ 0.0419, -0.1325],\n",
              "        [ 1.0323,  1.1346],\n",
              "        [ 0.8377, -0.1384],\n",
              "        [ 0.0033, -0.1223],\n",
              "        [ 1.0063,  0.7964],\n",
              "        [ 0.0418,  1.1230],\n",
              "        [ 0.9798,  1.1369],\n",
              "        [-0.1779,  1.1384],\n",
              "        [-0.0050,  1.2850],\n",
              "        [-0.0256,  0.8989],\n",
              "        [ 0.1432,  1.0435],\n",
              "        [-0.0573,  1.0209],\n",
              "        [ 0.9693, -0.0481],\n",
              "        [ 0.0495,  1.0737],\n",
              "        [ 1.0041,  0.0339],\n",
              "        [ 0.8711,  0.1603],\n",
              "        [ 1.0452,  1.0075],\n",
              "        [ 0.9087,  1.2515],\n",
              "        [-0.1788,  1.0562],\n",
              "        [ 1.3036,  0.9409],\n",
              "        [ 0.1106,  0.1535],\n",
              "        [-0.0643, -0.0078],\n",
              "        [-0.0785,  0.8689],\n",
              "        [ 1.0705,  1.0115],\n",
              "        [ 0.8260,  0.0157],\n",
              "        [ 1.1514,  0.0301],\n",
              "        [ 0.0076,  1.0260],\n",
              "        [-0.0291,  0.0019],\n",
              "        [ 1.1416,  1.0611],\n",
              "        [ 1.0702, -0.0589],\n",
              "        [-0.0042, -0.0304],\n",
              "        [ 1.0937,  0.0200],\n",
              "        [-0.0230, -0.0512],\n",
              "        [-0.0898, -0.0281]])"
            ]
          },
          "metadata": {},
          "execution_count": 5
        }
      ]
    },
    {
      "cell_type": "code",
      "source": [
        "size = 50 # samples\n",
        "std=0.1\n",
        "data = torch.randint(low=0, high=2, size=(size, 2), dtype=torch.float32)\n",
        "label = (data.sum(dim=1) == 1).to(torch.long)\n",
        "# To make it slightly more challenging, we add a bit of gaussian noise to the data points.\n",
        "data += std * torch.randn(data.shape)"
      ],
      "metadata": {
        "id": "Z57uWBa65-2G"
      },
      "execution_count": 7,
      "outputs": []
    },
    {
      "cell_type": "code",
      "source": [
        "import matplotlib.pyplot as plt\n",
        "if isinstance(data, torch.Tensor):\n",
        "    data1 = data.cpu().numpy()\n",
        "if isinstance(label, torch.Tensor):\n",
        "    label1 = label.cpu().numpy()\n",
        "data_0 = data1[label1 == 0]\n",
        "data_1 = data1[label1 == 1]\n",
        "plt.figure(figsize=(4,4))\n",
        "plt.scatter(data_0[:,0], data_0[:,1], edgecolor=\"#333\", label=\"Class 0\")\n",
        "plt.scatter(data_1[:,0], data_1[:,1], edgecolor=\"#333\", label=\"Class 1\")\n",
        "plt.title(\"Dataset samples\")\n",
        "plt.ylabel(r\"$x_2$\")\n",
        "plt.xlabel(r\"$x_1$\")\n",
        "plt.legend()\n",
        "plt.show()"
      ],
      "metadata": {
        "colab": {
          "base_uri": "https://localhost:8080/",
          "height": 411
        },
        "id": "FepCOR4O5z0S",
        "outputId": "855a8d76-5bc1-4584-b35d-b047a4715244"
      },
      "execution_count": 8,
      "outputs": [
        {
          "output_type": "display_data",
          "data": {
            "text/plain": [
              "<Figure size 400x400 with 1 Axes>"
            ],
            "image/png": "[encoded data removed]"
          },
          "metadata": {}
        }
      ]
    },
    {
      "cell_type": "code",
      "source": [
        "loss_module = nn.BCEWithLogitsLoss()"
      ],
      "metadata": {
        "id": "KCkMUgOf6dCc"
      },
      "execution_count": 12,
      "outputs": []
    },
    {
      "cell_type": "code",
      "source": [
        "optimizer = torch.optim.SGD(model.parameters(), lr=0.1)"
      ],
      "metadata": {
        "id": "Mpc_lRP16UdL"
      },
      "execution_count": 10,
      "outputs": []
    },
    {
      "cell_type": "code",
      "source": [
        "from tqdm.notebook import tqdm\n",
        "\n",
        "epochs = 1000\n",
        "def train_model(model, optimizer, data,label, loss_module, num_epochs=epochs):\n",
        "    # Set model to train mode\n",
        "    model.train()\n",
        "    losses = []\n",
        "    # Training loop\n",
        "    for epoch in tqdm(range(num_epochs)):\n",
        "            ## Step 2: Run the model on the input data\n",
        "            preds = model(data)\n",
        "            preds = preds.squeeze(dim=1) # Output is [size, 1], but we want [size]\n",
        "\n",
        "            ## Step 3: Calculate the loss\n",
        "            loss = loss_module(preds, label.float())\n",
        "            #print(loss)\n",
        "            ## Step 4: Perform backpropagation\n",
        "            # Before calculating the gradients, we need to ensure that they are all zero.\n",
        "            # The gradients would not be overwritten, but actually added to the existing ones.\n",
        "            optimizer.zero_grad()\n",
        "            # Perform backpropagation\n",
        "            loss.backward()\n",
        "            losses.append(loss.item())\n",
        "            ## Step 5: Update the parameters\n",
        "            optimizer.step()\n",
        "            if epoch%20 == 0 :\n",
        "                print(f'epoch: {epoch} Train loss: {loss.item()}' )\n",
        "\n",
        "    return losses\n",
        "losses=train_model(model, optimizer, data,label, loss_module,epochs)"
      ],
      "metadata": {
        "colab": {
          "base_uri": "https://localhost:8080/",
          "height": 917,
          "referenced_widgets": [
            "7cc9be3795ae4ff0a94ddc91bf11580e",
            "a7b017ca9d154c808c91166a6b09b91a",
            "b20519dbd251472da0e3b0a3b0299848",
            "56446c78ab4947d6ace1a68da57749c9",
            "0066e6ad954442dfaa1981c64c240f8e",
            "5045ee4dc644488c8927d6451d75cdcb",
            "689eed6b87934f0b9c3e9d0d36fe0c23",
            "08cef549de04481d83a31929b62b4f3c",
            "ddbdcf904253489d9d8c670a543500d8",
            "ac50b9d3850547fa9bee043f90eaa8ca",
            "362d2f43bcbf479c8e71c815dc1d0676"
          ]
        },
        "id": "rEG-tn1-6MCp",
        "outputId": "bf395ddf-12de-46df-f4d4-00f5eb71e978"
      },
      "execution_count": 13,
      "outputs": [
        {
          "output_type": "display_data",
          "data": {
            "text/plain": [
              "  0%|          | 0/1000 [00:00<?, ?it/s]"
            ],
            "application/vnd.jupyter.widget-view+json": {
              "version_major": 2,
              "version_minor": 0,
              "model_id": "7cc9be3795ae4ff0a94ddc91bf11580e"
            }
          },
          "metadata": {}
        },
        {
          "output_type": "stream",
          "name": "stdout",
          "text": [
            "epoch: 0 Train loss: 0.748849093914032\n",
            "epoch: 20 Train loss: 0.6787269115447998\n",
            "epoch: 40 Train loss: 0.6674124002456665\n",
            "epoch: 60 Train loss: 0.6640220880508423\n",
            "epoch: 80 Train loss: 0.6615695953369141\n",
            "epoch: 100 Train loss: 0.6589940786361694\n",
            "epoch: 120 Train loss: 0.6560603976249695\n",
            "epoch: 140 Train loss: 0.6526334881782532\n",
            "epoch: 160 Train loss: 0.64857017993927\n",
            "epoch: 180 Train loss: 0.6437039375305176\n",
            "epoch: 200 Train loss: 0.6378496885299683\n",
            "epoch: 220 Train loss: 0.6308203339576721\n",
            "epoch: 240 Train loss: 0.622453510761261\n",
            "epoch: 260 Train loss: 0.61264568567276\n",
            "epoch: 280 Train loss: 0.6013843417167664\n",
            "epoch: 300 Train loss: 0.5887690782546997\n",
            "epoch: 320 Train loss: 0.5750110745429993\n",
            "epoch: 340 Train loss: 0.560410737991333\n",
            "epoch: 360 Train loss: 0.5453173518180847\n",
            "epoch: 380 Train loss: 0.5300838351249695\n",
            "epoch: 400 Train loss: 0.5150274038314819\n",
            "epoch: 420 Train loss: 0.5004048943519592\n",
            "epoch: 440 Train loss: 0.4864041805267334\n",
            "epoch: 460 Train loss: 0.4731467068195343\n",
            "epoch: 480 Train loss: 0.46069732308387756\n",
            "epoch: 500 Train loss: 0.4490756094455719\n",
            "epoch: 520 Train loss: 0.4382663369178772\n",
            "epoch: 540 Train loss: 0.428227037191391\n",
            "epoch: 560 Train loss: 0.418893039226532\n",
            "epoch: 580 Train loss: 0.4101794362068176\n",
            "epoch: 600 Train loss: 0.40198037028312683\n",
            "epoch: 620 Train loss: 0.3941635191440582\n",
            "epoch: 640 Train loss: 0.38656219840049744\n",
            "epoch: 660 Train loss: 0.37896236777305603\n",
            "epoch: 680 Train loss: 0.37109023332595825\n",
            "epoch: 700 Train loss: 0.362610787153244\n",
            "epoch: 720 Train loss: 0.3531568646430969\n",
            "epoch: 740 Train loss: 0.3424034118652344\n",
            "epoch: 760 Train loss: 0.33016136288642883\n",
            "epoch: 780 Train loss: 0.31642502546310425\n",
            "epoch: 800 Train loss: 0.30135172605514526\n",
            "epoch: 820 Train loss: 0.2852258086204529\n",
            "epoch: 840 Train loss: 0.26843103766441345\n",
            "epoch: 860 Train loss: 0.25140586495399475\n",
            "epoch: 880 Train loss: 0.2345775067806244\n",
            "epoch: 900 Train loss: 0.2183016836643219\n",
            "epoch: 920 Train loss: 0.20283377170562744\n",
            "epoch: 940 Train loss: 0.18832913041114807\n",
            "epoch: 960 Train loss: 0.17486192286014557\n",
            "epoch: 980 Train loss: 0.16244764626026154\n"
          ]
        }
      ]
    },
    {
      "cell_type": "code",
      "source": [
        "plt.plot(range(epochs),losses,\"r\",label=\"Train loss\")\n",
        "\n",
        "plt.ylabel(\"loss/error\")\n",
        "plt.xlabel(\"Epochs\")\n",
        "plt.legend()"
      ],
      "metadata": {
        "colab": {
          "base_uri": "https://localhost:8080/",
          "height": 466
        },
        "id": "t2IRA8rB6pnQ",
        "outputId": "93326d44-1c12-45c3-a34a-916334498409"
      },
      "execution_count": 14,
      "outputs": [
        {
          "output_type": "execute_result",
          "data": {
            "text/plain": [
              "<matplotlib.legend.Legend at 0x7a1378bc46a0>"
            ]
          },
          "metadata": {},
          "execution_count": 14
        },
        {
          "output_type": "display_data",
          "data": {
            "text/plain": [
              "<Figure size 640x480 with 1 Axes>"
            ],
            "image/png": "[encoded data removed]"
          },
          "metadata": {}
        }
      ]
    },
    {
      "cell_type": "code",
      "source": [
        "from matplotlib.colors import to_rgba\n",
        "@torch.no_grad() # Decorator, same effect as \"with torch.no_grad(): ...\" over the whole function.\n",
        "def visualize_classification(model, data, label):\n",
        "    if isinstance(data, torch.Tensor):\n",
        "        data = data.cpu().numpy()\n",
        "    if isinstance(label, torch.Tensor):\n",
        "        label = label.cpu().numpy()\n",
        "    data_0 = data[label == 0]\n",
        "    data_1 = data[label == 1]\n",
        "    plt.figure(figsize=(4,4))\n",
        "    fig = plt.figure(figsize=(4,4))\n",
        "    plt.scatter(data_0[:,0], data_0[:,1], edgecolor=\"#333\", label=\"Class 0\")\n",
        "    plt.scatter(data_1[:,0], data_1[:,1], edgecolor=\"#333\", label=\"Class 1\")\n",
        "    plt.title(\"Dataset samples\")\n",
        "    plt.ylabel(r\"$x_2$\")\n",
        "    plt.xlabel(r\"$x_1$\")\n",
        "    plt.legend()\n",
        "\n",
        "    # Let's make use of a lot of operations we have learned above\n",
        "    c0 = torch.Tensor(to_rgba(\"C0\"))\n",
        "    c1 = torch.Tensor(to_rgba(\"C1\"))\n",
        "    x1 = torch.arange(-0.5, 1.5, step=0.01)\n",
        "    x2 = torch.arange(-0.5, 1.5, step=0.01)\n",
        "    xx1, xx2 = torch.meshgrid(x1, x2, indexing='ij')  # Meshgrid function as in numpy\n",
        "    model_inputs = torch.stack([xx1, xx2], dim=-1)\n",
        "    preds = model(model_inputs)\n",
        "    preds = torch.sigmoid(preds)\n",
        "    output_image = (1 - preds) * c0[None,None] + preds * c1[None,None]  # Specifying \"None\" in a dimension creates a new one\n",
        "    output_image = output_image.cpu().numpy()  # Convert to numpy array. This only works for tensors on CPU, hence first push to CPU\n",
        "    plt.imshow(output_image, origin='lower', extent=(-0.5, 1.5, -0.5, 1.5))\n",
        "    plt.grid(False)\n",
        "    return fig\n",
        "\n",
        "_ = visualize_classification(model, data, label)\n",
        "plt.show()"
      ],
      "metadata": {
        "colab": {
          "base_uri": "https://localhost:8080/",
          "height": 428
        },
        "id": "s5Lmz0ct6vT2",
        "outputId": "ef7e2442-51a6-47d2-a8a1-b775ff3afd00"
      },
      "execution_count": 15,
      "outputs": [
        {
          "output_type": "display_data",
          "data": {
            "text/plain": [
              "<Figure size 400x400 with 0 Axes>"
            ]
          },
          "metadata": {}
        },
        {
          "output_type": "display_data",
          "data": {
            "text/plain": [
              "<Figure size 400x400 with 1 Axes>"
            ],
            "image/png": "[encoded data removed]"
          },
          "metadata": {}
        }
      ]
    }
  ]
}